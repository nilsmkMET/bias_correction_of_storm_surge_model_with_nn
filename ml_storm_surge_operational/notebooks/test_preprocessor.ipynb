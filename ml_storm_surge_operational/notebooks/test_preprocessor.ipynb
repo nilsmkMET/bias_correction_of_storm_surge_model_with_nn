{
 "cells": [
  {
   "cell_type": "code",
   "execution_count": 5,
   "id": "68a2c695-de82-4e1d-981c-b447d34425d6",
   "metadata": {},
   "outputs": [
    {
     "ename": "ModuleNotFoundError",
     "evalue": "No module named 'storm_surge_oper'",
     "output_type": "error",
     "traceback": [
      "\u001b[0;31m---------------------------------------------------------------------------\u001b[0m",
      "\u001b[0;31mModuleNotFoundError\u001b[0m                       Traceback (most recent call last)",
      "Cell \u001b[0;32mIn[5], line 5\u001b[0m\n\u001b[1;32m      3\u001b[0m \u001b[38;5;28;01mimport\u001b[39;00m \u001b[38;5;21;01mdatetime\u001b[39;00m \u001b[38;5;28;01mas\u001b[39;00m \u001b[38;5;21;01mdt\u001b[39;00m\n\u001b[1;32m      4\u001b[0m \u001b[38;5;28;01mimport\u001b[39;00m \u001b[38;5;21;01mmatplotlib\u001b[39;00m\u001b[38;5;21;01m.\u001b[39;00m\u001b[38;5;21;01mpyplot\u001b[39;00m \u001b[38;5;28;01mas\u001b[39;00m \u001b[38;5;21;01mplt\u001b[39;00m\n\u001b[0;32m----> 5\u001b[0m \u001b[38;5;28;01mfrom\u001b[39;00m \u001b[38;5;21;01mstorm_surge_oper\u001b[39;00m\u001b[38;5;21;01m.\u001b[39;00m\u001b[38;5;21;01mdata_loader\u001b[39;00m\u001b[38;5;21;01m.\u001b[39;00m\u001b[38;5;21;01mpreprocessor_operational\u001b[39;00m \u001b[38;5;28;01mimport\u001b[39;00m PreprocessInput \u001b[38;5;28;01mas\u001b[39;00m PP\n",
      "\u001b[0;31mModuleNotFoundError\u001b[0m: No module named 'storm_surge_oper'"
     ]
    }
   ],
   "source": [
    "import numpy as np\n",
    "import pandas as pd\n",
    "import datetime as dt\n",
    "import matplotlib.pyplot as plt\n",
    "from storm_surge_oper.data_loader.preprocessor_operational import PreprocessInput as PP"
   ]
  },
  {
   "cell_type": "code",
   "execution_count": 3,
   "id": "5206c543-6980-4374-abc9-16b3b325fc1a",
   "metadata": {},
   "outputs": [],
   "source": [
    "feature_stations=['NO_BGO', 'NO_AES']\n",
    "label_stations=['NO_BGO']\n",
    "    \n",
    "feature_vars = ['obs', 'tide_py', 'stormsurge_corrected', 'u10', 'v10']\n",
    "label_var = 'stormsurge_corrected - (obs - tide_py)'\n",
    "\n",
    "window_width_past = [2, 2, 0, 0, 0, 0]\n",
    "window_width_future = [-1, 6, 6, 6, 6, 6] #, 0, 0]  # -1 does not include time t -> this is for forecast mode\n",
    "horizon = 60    \n",
    "\n",
    "datetime_start_hourly=dt.datetime(2020, 2, 1, 0, 0, 0, tzinfo=dt.timezone.utc)\n",
    "datetime_end_hourly=dt.datetime(2020, 4, 30, 12, 0, 0, tzinfo=dt.timezone.utc)\n",
    "datetime_split=dt.datetime(2020, 3, 31, 12, 0, 0, tzinfo=dt.timezone.utc)"
   ]
  },
  {
   "cell_type": "code",
   "execution_count": null,
   "id": "ca46c211-161a-403e-9da6-3997e05e00fe",
   "metadata": {},
   "outputs": [],
   "source": []
  },
  {
   "cell_type": "code",
   "execution_count": null,
   "id": "6c63ba30-956a-40c3-b048-af1f9d9b069d",
   "metadata": {},
   "outputs": [],
   "source": []
  },
  {
   "cell_type": "code",
   "execution_count": null,
   "id": "70751d4b-6dc5-4821-9d72-b5dd82184675",
   "metadata": {},
   "outputs": [],
   "source": []
  },
  {
   "cell_type": "code",
   "execution_count": null,
   "id": "0befa08b-5ff3-4cc1-adac-fe016f6e84c6",
   "metadata": {},
   "outputs": [],
   "source": []
  }
 ],
 "metadata": {
  "kernelspec": {
   "display_name": "Python 3 (ipykernel)",
   "language": "python",
   "name": "python3"
  },
  "language_info": {
   "codemirror_mode": {
    "name": "ipython",
    "version": 3
   },
   "file_extension": ".py",
   "mimetype": "text/x-python",
   "name": "python",
   "nbconvert_exporter": "python",
   "pygments_lexer": "ipython3",
   "version": "3.9.16"
  }
 },
 "nbformat": 4,
 "nbformat_minor": 5
}
